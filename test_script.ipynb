{
 "metadata": {
  "language_info": {
   "codemirror_mode": {
    "name": "ipython",
    "version": 3
   },
   "file_extension": ".py",
   "mimetype": "text/x-python",
   "name": "python",
   "nbconvert_exporter": "python",
   "pygments_lexer": "ipython3",
   "version": 3
  },
  "orig_nbformat": 2
 },
 "nbformat": 4,
 "nbformat_minor": 2,
 "cells": [
  {
   "cell_type": "code",
   "execution_count": null,
   "metadata": {},
   "outputs": [],
   "source": [
    "import socket\n",
    "import pandas as pd\n",
    "from careerjet_api import CareerjetAPIClient\n",
    "\n",
    "# Set locale for job search - full list of locale available here https://pypi.org/project/careerjet-api/#description\n",
    "cj = CareerjetAPIClient(\"en_AU\")\n",
    "\n",
    "# Get user IP\n",
    "hostname = socket.gethostname()\n",
    "ip_address = socket.gethostbyname(hostname)"
   ]
  },
  {
   "cell_type": "code",
   "execution_count": null,
   "metadata": {},
   "outputs": [],
   "source": [
    "# Define the job search parameters\n",
    "job = 'mechanical engineer'\n",
    "location = 'perth '"
   ]
  },
  {
   "cell_type": "code",
   "execution_count": null,
   "metadata": {},
   "outputs": [],
   "source": [
    "# Initialise DataFrame to store job data\n",
    "jobs = pd.DataFrame()\n",
    "\n",
    "# Initial search to return number of pages to search\n",
    "result_json = cj.search({\n",
    "    'location': location,\n",
    "    'keywords': job,\n",
    "    'affid': '99e2f6a324cd6491b8124db8f1eeb3e5',\n",
    "    'user_ip': ip_address,\n",
    "    'url': 'http://www.example.com/jobsearch?q=python&l=london',\n",
    "    'user_agent': 'Mozilla/5.0 (X11; Linux x86_64; rv:31.0) Gecko/20100101 Firefox/31.0',\n",
    "})\n",
    "\n",
    "pages = result_json['pages']\n",
    "\n",
    "# Iterate through all pages and save job data to DataFrame\n",
    "for page in range(pages+1):\n",
    "    print('Scraping page:', page)\n",
    "    result_json = cj.search({\n",
    "                            'location': location,\n",
    "                            'keywords': job,\n",
    "                            'affid': '99e2f6a324cd6491b8124db8f1eeb3e5',\n",
    "                            'user_ip': ip_address,\n",
    "                            'url': 'http://www.example.com/jobsearch?q=python&l=london',\n",
    "                            'user_agent': 'Mozilla/5.0 (X11; Linux x86_64; rv:31.0) Gecko/20100101 Firefox/31.0',\n",
    "                            'page': page\n",
    "                            })\n",
    "    temp = result_json['jobs']\n",
    "    jobs_temp = pd.DataFrame(data=temp)\n",
    "    jobs = jobs.append(jobs_temp, ignore_index=True)\n"
   ]
  },
  {
   "cell_type": "code",
   "execution_count": null,
   "metadata": {},
   "outputs": [],
   "source": [
    "# Convert salaries to numeric data format\n",
    "jobs['salary_max'] = pd.to_numeric(jobs['salary_max'])\n",
    "jobs['salary_min'] = pd.to_numeric(jobs['salary_min'])\n",
    "\n",
    "# Filter out jobs without yearly salary listed\n",
    "jobs_salary = jobs.loc[(jobs['salary_min'] > 0) &\n",
    "                       (jobs['salary_type'] == 'Y')]\n",
    "\n",
    "# Calculate job pay analytics\n",
    "currency = jobs_salary['salary_currency_code']. value_counts().idxmax()\n",
    "average_pay_min = int(jobs_salary['salary_min'].mean())\n",
    "average_pay_max = int(jobs_salary['salary_max'].mean())\n",
    "average_pay = int((average_pay_max + average_pay_min)/2)\n",
    "\n",
    "# Print pay analytics\n",
    "print('---- You\\'re searching for' + job + 'in' + location + '-----')\n",
    "print('The average minimum pay for this job is',\n",
    "      average_pay_min, currency, 'per year')\n",
    "print('The average pay for this job is', average_pay, currency, 'per year')\n",
    "print('The average maximum pay for this job is',\n",
    "      average_pay_max, currency, 'per year')\n",
    "\n",
    "# Job location analytics\n",
    "most_frequent_location = jobs['locations']. value_counts().idxmax()\n",
    "print('The most common location for this job in ' +\n",
    "      location + 'is ' + most_frequent_location)\n",
    "\n",
    "# Job company analytics\n",
    "count_companies =  jobs['company'].value_counts()\n",
    "print('----The most common employers and number of ads----')\n",
    "print(count_companies[:10]\n"
   ]
  }
 ]
}